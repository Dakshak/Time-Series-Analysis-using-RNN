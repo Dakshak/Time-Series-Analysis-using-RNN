{
 "cells": [
  {
   "cell_type": "markdown",
   "metadata": {},
   "source": [
    "# Stock Market Predictions\n",
    "\n",
    "#### In this project we're trying to predict Open google stock price for the time period of Jan 2017 using RNN. "
   ]
  },
  {
   "cell_type": "code",
   "execution_count": 1,
   "metadata": {},
   "outputs": [],
   "source": [
    "# Importing the libraries\n",
    "import numpy as np\n",
    "import matplotlib.pyplot as plt\n",
    "import pandas as pd"
   ]
  },
  {
   "cell_type": "markdown",
   "metadata": {},
   "source": [
    "The training dataset 'Google_Stock_Price_Train.csv' consists of google stock price time series data starting from '1/3/2012' to '12/30/2016'."
   ]
  },
  {
   "cell_type": "code",
   "execution_count": 2,
   "metadata": {},
   "outputs": [
    {
     "data": {
      "text/html": [
       "<div>\n",
       "<style scoped>\n",
       "    .dataframe tbody tr th:only-of-type {\n",
       "        vertical-align: middle;\n",
       "    }\n",
       "\n",
       "    .dataframe tbody tr th {\n",
       "        vertical-align: top;\n",
       "    }\n",
       "\n",
       "    .dataframe thead th {\n",
       "        text-align: right;\n",
       "    }\n",
       "</style>\n",
       "<table border=\"1\" class=\"dataframe\">\n",
       "  <thead>\n",
       "    <tr style=\"text-align: right;\">\n",
       "      <th></th>\n",
       "      <th>Date</th>\n",
       "      <th>Open</th>\n",
       "      <th>High</th>\n",
       "      <th>Low</th>\n",
       "      <th>Close</th>\n",
       "      <th>Volume</th>\n",
       "    </tr>\n",
       "  </thead>\n",
       "  <tbody>\n",
       "    <tr>\n",
       "      <th>0</th>\n",
       "      <td>1/3/2012</td>\n",
       "      <td>325.25</td>\n",
       "      <td>332.83</td>\n",
       "      <td>324.97</td>\n",
       "      <td>663.59</td>\n",
       "      <td>7,380,500</td>\n",
       "    </tr>\n",
       "    <tr>\n",
       "      <th>1</th>\n",
       "      <td>1/4/2012</td>\n",
       "      <td>331.27</td>\n",
       "      <td>333.87</td>\n",
       "      <td>329.08</td>\n",
       "      <td>666.45</td>\n",
       "      <td>5,749,400</td>\n",
       "    </tr>\n",
       "    <tr>\n",
       "      <th>2</th>\n",
       "      <td>1/5/2012</td>\n",
       "      <td>329.83</td>\n",
       "      <td>330.75</td>\n",
       "      <td>326.89</td>\n",
       "      <td>657.21</td>\n",
       "      <td>6,590,300</td>\n",
       "    </tr>\n",
       "    <tr>\n",
       "      <th>3</th>\n",
       "      <td>1/6/2012</td>\n",
       "      <td>328.34</td>\n",
       "      <td>328.77</td>\n",
       "      <td>323.68</td>\n",
       "      <td>648.24</td>\n",
       "      <td>5,405,900</td>\n",
       "    </tr>\n",
       "    <tr>\n",
       "      <th>4</th>\n",
       "      <td>1/9/2012</td>\n",
       "      <td>322.04</td>\n",
       "      <td>322.29</td>\n",
       "      <td>309.46</td>\n",
       "      <td>620.76</td>\n",
       "      <td>11,688,800</td>\n",
       "    </tr>\n",
       "  </tbody>\n",
       "</table>\n",
       "</div>"
      ],
      "text/plain": [
       "       Date    Open    High     Low   Close      Volume\n",
       "0  1/3/2012  325.25  332.83  324.97  663.59   7,380,500\n",
       "1  1/4/2012  331.27  333.87  329.08  666.45   5,749,400\n",
       "2  1/5/2012  329.83  330.75  326.89  657.21   6,590,300\n",
       "3  1/6/2012  328.34  328.77  323.68  648.24   5,405,900\n",
       "4  1/9/2012  322.04  322.29  309.46  620.76  11,688,800"
      ]
     },
     "execution_count": 2,
     "metadata": {},
     "output_type": "execute_result"
    }
   ],
   "source": [
    "# Importing the training set\n",
    "dataset_train = pd.read_csv('Google_Stock_Price_Train.csv')\n",
    "dataset_train.head()"
   ]
  },
  {
   "cell_type": "markdown",
   "metadata": {},
   "source": [
    "#### converting training dataset to numpy array. We only consider the Open stock price attribute as that is what we're trying to predict"
   ]
  },
  {
   "cell_type": "code",
   "execution_count": 3,
   "metadata": {},
   "outputs": [
    {
     "data": {
      "text/plain": [
       "(1258, 1)"
      ]
     },
     "execution_count": 3,
     "metadata": {},
     "output_type": "execute_result"
    }
   ],
   "source": [
    "training_set = dataset_train.iloc[:, 1:2].values\n",
    "training_set.shape"
   ]
  },
  {
   "cell_type": "code",
   "execution_count": 4,
   "metadata": {},
   "outputs": [
    {
     "data": {
      "text/plain": [
       "(1258, 1)"
      ]
     },
     "execution_count": 4,
     "metadata": {},
     "output_type": "execute_result"
    }
   ],
   "source": [
    "# Feature Scaling\n",
    "from sklearn.preprocessing import MinMaxScaler\n",
    "sc = MinMaxScaler(feature_range = (0, 1)) #normalising the data\n",
    "training_set_scaled = sc.fit_transform(training_set) #new training set data scaled\n",
    "training_set_scaled.shape"
   ]
  },
  {
   "cell_type": "markdown",
   "metadata": {},
   "source": [
    "#### We're going to consider 60 time steps for RNNs. Based on trends captured by RNN in these 60 time steps, it'll predict the 60+1'th newoutput."
   ]
  },
  {
   "cell_type": "code",
   "execution_count": 5,
   "metadata": {},
   "outputs": [],
   "source": [
    "# Creating a data structure with 60 timesteps and 1 output\n",
    "X_train = []\n",
    "y_train = []\n",
    "for i in range(60, len(training_set_scaled)):\n",
    "    X_train.append(training_set_scaled[i-60:i, 0])\n",
    "    y_train.append(training_set_scaled[i, 0])\n",
    "X_train, y_train = np.array(X_train), np.array(y_train)"
   ]
  },
  {
   "cell_type": "code",
   "execution_count": 6,
   "metadata": {},
   "outputs": [],
   "source": [
    "# Reshaping\n",
    "#adding dimensions to the training step\n",
    "X_train = np.reshape(X_train, (X_train.shape[0], X_train.shape[1], 1))"
   ]
  },
  {
   "cell_type": "markdown",
   "metadata": {},
   "source": [
    "### Building The RNN using Keras"
   ]
  },
  {
   "cell_type": "code",
   "execution_count": 7,
   "metadata": {
    "collapsed": true
   },
   "outputs": [
    {
     "name": "stderr",
     "output_type": "stream",
     "text": [
      "Using TensorFlow backend.\n",
      "/opt/anaconda3/lib/python3.7/site-packages/tensorflow/python/framework/dtypes.py:526: FutureWarning: Passing (type, 1) or '1type' as a synonym of type is deprecated; in a future version of numpy, it will be understood as (type, (1,)) / '(1,)type'.\n",
      "  _np_qint8 = np.dtype([(\"qint8\", np.int8, 1)])\n",
      "/opt/anaconda3/lib/python3.7/site-packages/tensorflow/python/framework/dtypes.py:527: FutureWarning: Passing (type, 1) or '1type' as a synonym of type is deprecated; in a future version of numpy, it will be understood as (type, (1,)) / '(1,)type'.\n",
      "  _np_quint8 = np.dtype([(\"quint8\", np.uint8, 1)])\n",
      "/opt/anaconda3/lib/python3.7/site-packages/tensorflow/python/framework/dtypes.py:528: FutureWarning: Passing (type, 1) or '1type' as a synonym of type is deprecated; in a future version of numpy, it will be understood as (type, (1,)) / '(1,)type'.\n",
      "  _np_qint16 = np.dtype([(\"qint16\", np.int16, 1)])\n",
      "/opt/anaconda3/lib/python3.7/site-packages/tensorflow/python/framework/dtypes.py:529: FutureWarning: Passing (type, 1) or '1type' as a synonym of type is deprecated; in a future version of numpy, it will be understood as (type, (1,)) / '(1,)type'.\n",
      "  _np_quint16 = np.dtype([(\"quint16\", np.uint16, 1)])\n",
      "/opt/anaconda3/lib/python3.7/site-packages/tensorflow/python/framework/dtypes.py:530: FutureWarning: Passing (type, 1) or '1type' as a synonym of type is deprecated; in a future version of numpy, it will be understood as (type, (1,)) / '(1,)type'.\n",
      "  _np_qint32 = np.dtype([(\"qint32\", np.int32, 1)])\n",
      "/opt/anaconda3/lib/python3.7/site-packages/tensorflow/python/framework/dtypes.py:535: FutureWarning: Passing (type, 1) or '1type' as a synonym of type is deprecated; in a future version of numpy, it will be understood as (type, (1,)) / '(1,)type'.\n",
      "  np_resource = np.dtype([(\"resource\", np.ubyte, 1)])\n"
     ]
    }
   ],
   "source": [
    "# Importing the Keras libraries and packages\n",
    "from keras.models import Sequential\n",
    "from keras.layers import Dense\n",
    "from keras.layers import LSTM\n",
    "from keras.layers import Dropout"
   ]
  },
  {
   "cell_type": "code",
   "execution_count": 8,
   "metadata": {},
   "outputs": [
    {
     "name": "stdout",
     "output_type": "stream",
     "text": [
      "WARNING:tensorflow:From /opt/anaconda3/lib/python3.7/site-packages/tensorflow/python/ops/resource_variable_ops.py:435: colocate_with (from tensorflow.python.framework.ops) is deprecated and will be removed in a future version.\n",
      "Instructions for updating:\n",
      "Colocations handled automatically by placer.\n"
     ]
    }
   ],
   "source": [
    "#initialising the RNN\n",
    "regressor = Sequential()\n",
    "\n",
    "# Adding the first LSTM layer and some Dropout regularisation\n",
    "regressor.add(LSTM(units = 50, return_sequences = True, input_shape = (X_train.shape[1], 1)))\n",
    "regressor.add(Dropout(0.2))\n",
    "\n",
    "# Adding a second LSTM layer and some Dropout regularisation\n",
    "regressor.add(LSTM(units = 50, return_sequences = True))\n",
    "regressor.add(Dropout(0.2))\n",
    "\n",
    "# Adding a third LSTM layer and some Dropout regularisation\n",
    "regressor.add(LSTM(units = 50, return_sequences = True))\n",
    "regressor.add(Dropout(0.2))\n",
    "\n",
    "# Adding a fourth LSTM layer and some Dropout regularisation\n",
    "regressor.add(LSTM(units = 50))\n",
    "regressor.add(Dropout(0.2))\n",
    "\n",
    "# Adding the output layer\n",
    "regressor.add(Dense(units = 1))"
   ]
  },
  {
   "cell_type": "code",
   "execution_count": 9,
   "metadata": {
    "scrolled": false
   },
   "outputs": [
    {
     "name": "stdout",
     "output_type": "stream",
     "text": [
      "WARNING:tensorflow:From /opt/anaconda3/lib/python3.7/site-packages/tensorflow/python/ops/math_ops.py:3066: to_int32 (from tensorflow.python.ops.math_ops) is deprecated and will be removed in a future version.\n",
      "Instructions for updating:\n",
      "Use tf.cast instead.\n",
      "Epoch 1/100\n",
      "1198/1198 [==============================] - 5s 4ms/step - loss: 0.0352\n",
      "Epoch 2/100\n",
      "1198/1198 [==============================] - 7s 6ms/step - loss: 0.0058\n",
      "Epoch 3/100\n",
      "1198/1198 [==============================] - 5s 4ms/step - loss: 0.0052\n",
      "Epoch 4/100\n",
      "1198/1198 [==============================] - 4s 3ms/step - loss: 0.0056\n",
      "Epoch 5/100\n",
      "1198/1198 [==============================] - 4s 4ms/step - loss: 0.0050\n",
      "Epoch 6/100\n",
      "1198/1198 [==============================] - 4s 4ms/step - loss: 0.0050\n",
      "Epoch 7/100\n",
      "1198/1198 [==============================] - 4s 4ms/step - loss: 0.0046\n",
      "Epoch 8/100\n",
      "1198/1198 [==============================] - 4s 3ms/step - loss: 0.0053\n",
      "Epoch 9/100\n",
      "1198/1198 [==============================] - 4s 3ms/step - loss: 0.0043\n",
      "Epoch 10/100\n",
      "1198/1198 [==============================] - 4s 3ms/step - loss: 0.0045\n",
      "Epoch 11/100\n",
      "1198/1198 [==============================] - 4s 3ms/step - loss: 0.0038\n",
      "Epoch 12/100\n",
      "1198/1198 [==============================] - 5s 4ms/step - loss: 0.0035\n",
      "Epoch 13/100\n",
      "1198/1198 [==============================] - 5s 4ms/step - loss: 0.0043\n",
      "Epoch 14/100\n",
      "1198/1198 [==============================] - 5s 4ms/step - loss: 0.0042\n",
      "Epoch 15/100\n",
      "1198/1198 [==============================] - 5s 4ms/step - loss: 0.0041\n",
      "Epoch 16/100\n",
      "1198/1198 [==============================] - 4s 4ms/step - loss: 0.0036\n",
      "Epoch 17/100\n",
      "1198/1198 [==============================] - 5s 4ms/step - loss: 0.0040\n",
      "Epoch 18/100\n",
      "1198/1198 [==============================] - 5s 4ms/step - loss: 0.0035\n",
      "Epoch 19/100\n",
      "1198/1198 [==============================] - 5s 4ms/step - loss: 0.0034\n",
      "Epoch 20/100\n",
      "1198/1198 [==============================] - 6s 5ms/step - loss: 0.0032\n",
      "Epoch 21/100\n",
      "1198/1198 [==============================] - 5s 4ms/step - loss: 0.0038\n",
      "Epoch 22/100\n",
      "1198/1198 [==============================] - 4s 4ms/step - loss: 0.0042\n",
      "Epoch 23/100\n",
      "1198/1198 [==============================] - 4s 3ms/step - loss: 0.0030\n",
      "Epoch 24/100\n",
      "1198/1198 [==============================] - 4s 3ms/step - loss: 0.0032\n",
      "Epoch 25/100\n",
      "1198/1198 [==============================] - 4s 3ms/step - loss: 0.0030\n",
      "Epoch 26/100\n",
      "1198/1198 [==============================] - 4s 3ms/step - loss: 0.0030\n",
      "Epoch 27/100\n",
      "1198/1198 [==============================] - 4s 3ms/step - loss: 0.0033\n",
      "Epoch 28/100\n",
      "1198/1198 [==============================] - 4s 4ms/step - loss: 0.0031\n",
      "Epoch 29/100\n",
      "1198/1198 [==============================] - 5s 4ms/step - loss: 0.0037\n",
      "Epoch 30/100\n",
      "1198/1198 [==============================] - 5s 4ms/step - loss: 0.0028\n",
      "Epoch 31/100\n",
      "1198/1198 [==============================] - 5s 4ms/step - loss: 0.0034\n",
      "Epoch 32/100\n",
      "1198/1198 [==============================] - 4s 4ms/step - loss: 0.0029\n",
      "Epoch 33/100\n",
      "1198/1198 [==============================] - 4s 4ms/step - loss: 0.0030\n",
      "Epoch 34/100\n",
      "1198/1198 [==============================] - 4s 4ms/step - loss: 0.0029\n",
      "Epoch 35/100\n",
      "1198/1198 [==============================] - 4s 3ms/step - loss: 0.0027\n",
      "Epoch 36/100\n",
      "1198/1198 [==============================] - 4s 3ms/step - loss: 0.0027\n",
      "Epoch 37/100\n",
      "1198/1198 [==============================] - 4s 3ms/step - loss: 0.0028\n",
      "Epoch 38/100\n",
      "1198/1198 [==============================] - 4s 3ms/step - loss: 0.0025\n",
      "Epoch 39/100\n",
      "1198/1198 [==============================] - 4s 3ms/step - loss: 0.0024\n",
      "Epoch 40/100\n",
      "1198/1198 [==============================] - 4s 3ms/step - loss: 0.0026\n",
      "Epoch 41/100\n",
      "1198/1198 [==============================] - 4s 4ms/step - loss: 0.0026\n",
      "Epoch 42/100\n",
      "1198/1198 [==============================] - 4s 3ms/step - loss: 0.0023\n",
      "Epoch 43/100\n",
      "1198/1198 [==============================] - 4s 3ms/step - loss: 0.0026\n",
      "Epoch 44/100\n",
      "1198/1198 [==============================] - 4s 3ms/step - loss: 0.0023\n",
      "Epoch 45/100\n",
      "1198/1198 [==============================] - 4s 4ms/step - loss: 0.0024\n",
      "Epoch 46/100\n",
      "1198/1198 [==============================] - 4s 3ms/step - loss: 0.0027\n",
      "Epoch 47/100\n",
      "1198/1198 [==============================] - 4s 3ms/step - loss: 0.0020\n",
      "Epoch 48/100\n",
      "1198/1198 [==============================] - 4s 4ms/step - loss: 0.0022\n",
      "Epoch 49/100\n",
      "1198/1198 [==============================] - 4s 3ms/step - loss: 0.0026\n",
      "Epoch 50/100\n",
      "1198/1198 [==============================] - 4s 4ms/step - loss: 0.0022\n",
      "Epoch 51/100\n",
      "1198/1198 [==============================] - 4s 4ms/step - loss: 0.0024\n",
      "Epoch 52/100\n",
      "1198/1198 [==============================] - 5s 4ms/step - loss: 0.0021\n",
      "Epoch 53/100\n",
      "1198/1198 [==============================] - 6s 5ms/step - loss: 0.0022\n",
      "Epoch 54/100\n",
      "1198/1198 [==============================] - 5s 5ms/step - loss: 0.0023\n",
      "Epoch 55/100\n",
      "1198/1198 [==============================] - 5s 4ms/step - loss: 0.0022\n",
      "Epoch 56/100\n",
      "1198/1198 [==============================] - 4s 4ms/step - loss: 0.0021\n",
      "Epoch 57/100\n",
      "1198/1198 [==============================] - 5s 4ms/step - loss: 0.0021\n",
      "Epoch 58/100\n",
      "1198/1198 [==============================] - 4s 3ms/step - loss: 0.0021\n",
      "Epoch 59/100\n",
      "1198/1198 [==============================] - 4s 4ms/step - loss: 0.0021\n",
      "Epoch 60/100\n",
      "1198/1198 [==============================] - 4s 3ms/step - loss: 0.0020\n",
      "Epoch 61/100\n",
      "1198/1198 [==============================] - 4s 3ms/step - loss: 0.0020\n",
      "Epoch 62/100\n",
      "1198/1198 [==============================] - 4s 3ms/step - loss: 0.0021\n",
      "Epoch 63/100\n",
      "1198/1198 [==============================] - 4s 3ms/step - loss: 0.0018\n",
      "Epoch 64/100\n",
      "1198/1198 [==============================] - 4s 3ms/step - loss: 0.0021\n",
      "Epoch 65/100\n",
      "1198/1198 [==============================] - 4s 3ms/step - loss: 0.0019\n",
      "Epoch 66/100\n",
      "1198/1198 [==============================] - 4s 3ms/step - loss: 0.0017\n",
      "Epoch 67/100\n",
      "1198/1198 [==============================] - 4s 3ms/step - loss: 0.0019\n",
      "Epoch 68/100\n",
      "1198/1198 [==============================] - 4s 4ms/step - loss: 0.0020\n",
      "Epoch 69/100\n",
      "1198/1198 [==============================] - 4s 3ms/step - loss: 0.0019\n",
      "Epoch 70/100\n",
      "1198/1198 [==============================] - 4s 4ms/step - loss: 0.0020\n",
      "Epoch 71/100\n",
      "1198/1198 [==============================] - 4s 3ms/step - loss: 0.0018\n",
      "Epoch 72/100\n",
      "1198/1198 [==============================] - 5s 4ms/step - loss: 0.0019\n",
      "Epoch 73/100\n",
      "1198/1198 [==============================] - 6s 5ms/step - loss: 0.0018\n",
      "Epoch 74/100\n",
      "1198/1198 [==============================] - 5s 4ms/step - loss: 0.0018\n",
      "Epoch 75/100\n",
      "1198/1198 [==============================] - 4s 3ms/step - loss: 0.0017\n",
      "Epoch 76/100\n",
      "1198/1198 [==============================] - 4s 3ms/step - loss: 0.0016\n",
      "Epoch 77/100\n",
      "1198/1198 [==============================] - 4s 3ms/step - loss: 0.0017\n",
      "Epoch 78/100\n",
      "1198/1198 [==============================] - 4s 3ms/step - loss: 0.0018\n",
      "Epoch 79/100\n",
      "1198/1198 [==============================] - 4s 3ms/step - loss: 0.0017\n",
      "Epoch 80/100\n",
      "1198/1198 [==============================] - 4s 3ms/step - loss: 0.0018\n",
      "Epoch 81/100\n",
      "1198/1198 [==============================] - 4s 4ms/step - loss: 0.0017\n",
      "Epoch 82/100\n",
      "1198/1198 [==============================] - 4s 4ms/step - loss: 0.0016\n",
      "Epoch 83/100\n",
      "1198/1198 [==============================] - 4s 4ms/step - loss: 0.0016\n",
      "Epoch 84/100\n",
      "1198/1198 [==============================] - 4s 3ms/step - loss: 0.0016\n",
      "Epoch 85/100\n",
      "1198/1198 [==============================] - 5s 4ms/step - loss: 0.0017\n",
      "Epoch 86/100\n",
      "1198/1198 [==============================] - 4s 4ms/step - loss: 0.0017\n",
      "Epoch 87/100\n",
      "1198/1198 [==============================] - 4s 3ms/step - loss: 0.0016\n",
      "Epoch 88/100\n",
      "1198/1198 [==============================] - 7s 6ms/step - loss: 0.0016\n",
      "Epoch 89/100\n",
      "1198/1198 [==============================] - 6s 5ms/step - loss: 0.0016\n",
      "Epoch 90/100\n",
      "1198/1198 [==============================] - 5s 4ms/step - loss: 0.0017\n",
      "Epoch 91/100\n",
      "1198/1198 [==============================] - 5s 4ms/step - loss: 0.0014\n",
      "Epoch 92/100\n",
      "1198/1198 [==============================] - 5s 4ms/step - loss: 0.0014\n",
      "Epoch 93/100\n",
      "1198/1198 [==============================] - 5s 4ms/step - loss: 0.0016\n",
      "Epoch 94/100\n"
     ]
    },
    {
     "name": "stdout",
     "output_type": "stream",
     "text": [
      "1198/1198 [==============================] - 6s 5ms/step - loss: 0.0017\n",
      "Epoch 95/100\n",
      "1198/1198 [==============================] - 4s 3ms/step - loss: 0.0015\n",
      "Epoch 96/100\n",
      "1198/1198 [==============================] - 4s 3ms/step - loss: 0.0015\n",
      "Epoch 97/100\n",
      "1198/1198 [==============================] - 4s 3ms/step - loss: 0.0016\n",
      "Epoch 98/100\n",
      "1198/1198 [==============================] - 7s 6ms/step - loss: 0.0019\n",
      "Epoch 99/100\n",
      "1198/1198 [==============================] - 6s 5ms/step - loss: 0.0014\n",
      "Epoch 100/100\n",
      "1198/1198 [==============================] - 6s 5ms/step - loss: 0.0014\n"
     ]
    },
    {
     "data": {
      "text/plain": [
       "<keras.callbacks.callbacks.History at 0x7ff5c525c8d0>"
      ]
     },
     "execution_count": 9,
     "metadata": {},
     "output_type": "execute_result"
    }
   ],
   "source": [
    "# Compiling the RNN\n",
    "regressor.compile(optimizer = 'adam', loss = 'mean_squared_error')\n",
    "\n",
    "# Fitting the RNN to the Training set\n",
    "regressor.fit(X_train, y_train, epochs = 100, batch_size = 32)"
   ]
  },
  {
   "cell_type": "code",
   "execution_count": 10,
   "metadata": {},
   "outputs": [],
   "source": [
    "# Making the predictions \n",
    "\n",
    "# Getting the real stock price of 2017\n",
    "dataset_test = pd.read_csv('Google_Stock_Price_Test.csv')\n",
    "real_stock_price = dataset_test.iloc[:, 1:2].values"
   ]
  },
  {
   "cell_type": "code",
   "execution_count": 11,
   "metadata": {},
   "outputs": [],
   "source": [
    "# Getting the predicted stock price of 2017\n",
    "dataset_total = pd.concat((dataset_train['Open'], dataset_test['Open']), axis = 0)\n",
    "inputs = dataset_total[len(dataset_total) - len(dataset_test) - 60:].values\n",
    "inputs = inputs.reshape(-1,1)\n",
    "inputs = sc.transform(inputs)\n",
    "X_test = []\n",
    "for i in range(60, 80):\n",
    "    X_test.append(inputs[i-60:i, 0])\n",
    "X_test = np.array(X_test)\n",
    "X_test = np.reshape(X_test, (X_test.shape[0], X_test.shape[1], 1))\n",
    "predicted_stock_price = regressor.predict(X_test)\n",
    "predicted_stock_price = sc.inverse_transform(predicted_stock_price)"
   ]
  },
  {
   "cell_type": "code",
   "execution_count": 13,
   "metadata": {},
   "outputs": [
    {
     "data": {
      "text/html": [
       "\n",
       "<style>\n",
       "iframe {border:0;}\n",
       "</style>\n"
      ],
      "text/plain": [
       "<IPython.core.display.HTML object>"
      ]
     },
     "execution_count": 13,
     "metadata": {},
     "output_type": "execute_result"
    }
   ],
   "source": [
    "#visualizing the results\n",
    "import iplotter\n",
    "from IPython.core.display import HTML\n",
    "\n",
    "# remove iFrame border for cleaner chart rendering\n",
    "# increase size of text explanations\n",
    "HTML(\"\"\"\n",
    "<style>\n",
    "iframe {border:0;}\n",
    "</style>\n",
    "\"\"\")"
   ]
  },
  {
   "cell_type": "code",
   "execution_count": 33,
   "metadata": {},
   "outputs": [],
   "source": [
    "#flattening the nd array for c3.js plotting \n",
    "predicted = predicted_stock_price.ravel()\n",
    "original = real_stock_price.ravel()\n",
    "pred = [float(i) for i in predicted]\n",
    "orig = [float(i) for i in original]"
   ]
  },
  {
   "cell_type": "code",
   "execution_count": 36,
   "metadata": {},
   "outputs": [
    {
     "data": {
      "text/html": [
       "<iframe srcdoc=\"\n",
       "        <!-- Load c3.css -->\n",
       "        <link href='https://cdnjs.cloudflare.com/ajax/libs/c3/0.4.10/c3.min.css' rel='stylesheet' type='text/css'/>\n",
       "\n",
       "        <!-- Load d3.js and c3.js -->\n",
       "        <script src='http://d3js.org/d3.v3.min.js' charset='utf-8'></script>\n",
       "        <script src='http://cdnjs.cloudflare.com/ajax/libs/c3/0.4.10/c3.min.js'></script>\n",
       "\n",
       "    \n",
       "        <div id=chart style='width: 100%; height: 100%'></div>\n",
       "        <script>\n",
       "            var chart = document.getElementById('chart');\n",
       "            var data = {\n",
       "    'data': {\n",
       "        'columns': [\n",
       "            [\n",
       "                'Predicted Google Stock Price',\n",
       "                788.4146728515625,\n",
       "                785.298828125,\n",
       "                785.2646484375,\n",
       "                786.8051147460938,\n",
       "                790.3817749023438,\n",
       "                796.4906005859375,\n",
       "                802.1495971679688,\n",
       "                804.422607421875,\n",
       "                804.4552001953125,\n",
       "                803.8818969726562,\n",
       "                803.5949096679688,\n",
       "                803.5880126953125,\n",
       "                803.7449340820312,\n",
       "                804.5223999023438,\n",
       "                805.6415405273438,\n",
       "                810.3042602539062,\n",
       "                817.53759765625,\n",
       "                825.3754272460938,\n",
       "                829.687255859375,\n",
       "                825.39990234375\n",
       "            ],\n",
       "            [\n",
       "                'Real Google Stock Price',\n",
       "                778.81,\n",
       "                788.36,\n",
       "                786.08,\n",
       "                795.26,\n",
       "                806.4,\n",
       "                807.86,\n",
       "                805.0,\n",
       "                807.14,\n",
       "                807.48,\n",
       "                807.08,\n",
       "                805.81,\n",
       "                805.12,\n",
       "                806.91,\n",
       "                807.25,\n",
       "                822.3,\n",
       "                829.62,\n",
       "                837.81,\n",
       "                834.71,\n",
       "                814.66,\n",
       "                796.86\n",
       "            ]\n",
       "        ],\n",
       "        'type': 'line'\n",
       "    },\n",
       "    'axis': {\n",
       "        'x': {\n",
       "            'label': 'Time',\n",
       "            'tick': {\n",
       "                'fit': 'false'\n",
       "            }\n",
       "        },\n",
       "        'y': {\n",
       "            'label': 'Stock Price'\n",
       "        }\n",
       "    },\n",
       "    'title': 'Google Stock Price'\n",
       "};\n",
       "            data['bindto']='#chart'\n",
       "            c3.generate(data);\n",
       "        </script>\n",
       "    \" src=\"\" width=\"800\" height=\"420\" frameborder=0 sandbox=\"allow-scripts\"></iframe>"
      ],
      "text/plain": [
       "<IPython.core.display.HTML object>"
      ]
     },
     "execution_count": 36,
     "metadata": {},
     "output_type": "execute_result"
    }
   ],
   "source": [
    "# define chart + data\n",
    "chart = {\n",
    "    \"data\": {\n",
    "        \"columns\": [\n",
    "           ['Predicted Google Stock Price'] + pred, ['Real Google Stock Price'] + orig\n",
    "        ],\n",
    "     \"type\": 'line'\n",
    "            },\n",
    "    \"axis\": {\n",
    "        \"x\": {\n",
    "            \"label\": 'Time',\n",
    "            \"tick\": {\n",
    "                \"fit\": \"false\"\n",
    "            }\n",
    "        },\n",
    "        \"y\": {\n",
    "            \"label\": 'Stock Price'\n",
    "        }\n",
    "    },\n",
    "    \"title\": \"Google Stock Price\"\n",
    "}\n",
    "\n",
    "c3_plotter = iplotter.C3Plotter()\n",
    "c3_plotter.plot(chart)"
   ]
  },
  {
   "cell_type": "code",
   "execution_count": null,
   "metadata": {},
   "outputs": [],
   "source": []
  }
 ],
 "metadata": {
  "kernelspec": {
   "display_name": "Python 3",
   "language": "python",
   "name": "python3"
  },
  "language_info": {
   "codemirror_mode": {
    "name": "ipython",
    "version": 3
   },
   "file_extension": ".py",
   "mimetype": "text/x-python",
   "name": "python",
   "nbconvert_exporter": "python",
   "pygments_lexer": "ipython3",
   "version": "3.7.4"
  }
 },
 "nbformat": 4,
 "nbformat_minor": 4
}
